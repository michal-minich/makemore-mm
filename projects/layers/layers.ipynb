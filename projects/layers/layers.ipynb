{
 "cells": [
  {
   "cell_type": "code",
   "execution_count": 1,
   "metadata": {},
   "outputs": [],
   "source": [
    "%load_ext autoreload\n",
    "%autoreload 2\n",
    "import torch\n",
    "import math\n",
    "import random\n",
    "import matplotlib.pyplot as plt\n",
    "%matplotlib inline\n",
    "relPath = \"../../\"\n",
    "import sys\n",
    "sys.path.append(relPath)\n",
    "from mm.printing import *\n",
    "from mm.neural.neural import *\n",
    "from layers import *\n",
    "from network import *\n",
    "from neural import *"
   ]
  },
  {
   "cell_type": "code",
   "execution_count": 2,
   "metadata": {},
   "outputs": [
    {
     "name": "stdout",
     "output_type": "stream",
     "text": [
      "Common init:         -------------------------- 2023-07-21 17:01:40\n",
      "dtype:               torch.float32\n",
      "device:              cpu\n",
      "contextSize:         3\n"
     ]
    }
   ],
   "source": [
    "initLogging(\"Common init\")\n",
    "\n",
    "dtype = torch.float\n",
    "log(\"dtype\", dtype)\n",
    "\n",
    "dvc = torch.device(\"cpu\")\n",
    "log(\"device\", dvc.type)\n",
    "\n",
    "contextSize = 3\n",
    "log(\"contextSize\", contextSize)"
   ]
  },
  {
   "cell_type": "code",
   "execution_count": 4,
   "metadata": {},
   "outputs": [
    {
     "name": "stdout",
     "output_type": "stream",
     "text": [
      "Prepare data:        -------------------------- 2023-07-21 17:02:04\n",
      "filePath:            ../../data/names.txt\n",
      "First few words:     ['emma', 'olivia', 'ava', 'isabella', 'sophia']\n",
      "Words counts:        32033\n",
      "Vocabulary:          ['.', 'a', 'b', 'c', 'd', 'e', 'f', 'g', 'h', 'i', 'j', 'k', 'l', 'm', 'n', 'o', 'p', 'q', 'r', 's', 't', 'u', 'v', 'w', 'x', 'y', 'z']\n",
      "stoi:                {'.': 0, 'a': 1, 'b': 2, 'c': 3, 'd': 4, 'e': 5, 'f': 6, 'g': 7, 'h': 8, 'i': 9, 'j': 10, 'k': 11, 'l': 12, 'm': 13, 'n': 14, 'o': 15, 'p': 16, 'q': 17, 'r': 18, 's': 19, 't': 20, 'u': 21, 'v': 22, 'w': 23, 'x': 24, 'y': 25, 'z': 26}\n",
      "itos:                {0: '.', 1: 'a', 2: 'b', 3: 'c', 4: 'd', 5: 'e', 6: 'f', 7: 'g', 8: 'h', 9: 'i', 10: 'j', 11: 'k', 12: 'l', 13: 'm', 14: 'n', 15: 'o', 16: 'p', 17: 'q', 18: 'r', 19: 's', 20: 't', 21: 'u', 22: 'v', 23: 'w', 24: 'x', 25: 'y', 26: 'z'}\n",
      "Vocabulary + end length: 27\n",
      "random probability:  3.2958\n"
     ]
    }
   ],
   "source": [
    "logSection(\"Prepare data\")\n",
    "\n",
    "filePath = relPath + \"data/names.txt\"\n",
    "log(\"filePath\", filePath)\n",
    "\n",
    "ldr = loadData(filePath)\n",
    "printDataInfo(ldr)"
   ]
  },
  {
   "cell_type": "code",
   "execution_count": 5,
   "metadata": {},
   "outputs": [
    {
     "name": "stdout",
     "output_type": "stream",
     "text": [
      "Prepare dataset:     -------------------------- 2023-07-21 17:02:11\n",
      "wordShufflingSeed:   42\n",
      "data dtype:          torch.int64\n",
      "trRatio:             0.8\n",
      "devRatio:            0.9\n",
      "Training:            length 25626 shape [182625, 3] ['yuheng', 'diondre', 'xavien']\n",
      "Validation:          length 3203 shape [22655, 3] ['amay', 'aytana', 'jenevi']\n",
      "Test:                length 3204 shape [22866, 3] ['mustafa', 'reuben', 'kahlel']\n"
     ]
    }
   ],
   "source": [
    "logSection(\"Prepare dataset\")\n",
    "\n",
    "wordShufflingSeed = 42\n",
    "log(\"wordShufflingSeed\", wordShufflingSeed)\n",
    "random.seed(wordShufflingSeed)\n",
    "random.shuffle(ldr.words)\n",
    "\n",
    "ds = buildDataSet(ldr, contextSize, 0.8, 0.9, torch.int64, dvc)"
   ]
  },
  {
   "cell_type": "code",
   "execution_count": 6,
   "metadata": {},
   "outputs": [
    {
     "name": "stdout",
     "output_type": "stream",
     "text": [
      "Build network:       -------------------------- 2023-07-21 17:02:17\n",
      "embeddingDims:       10\n",
      "hiddenLayerSize:     200\n",
      "learningSeed:        2147483647\n",
      "Network Structure:  \n",
      "Layer LinearWithBias 1: [30, 200]; [200]; \n",
      "Layer Tanh 2: \n",
      "Layer LinearWithBias 3: [200, 200]; [200]; \n",
      "Parameters Count:    46670\n"
     ]
    }
   ],
   "source": [
    "logSection(\"Build network\")\n",
    "\n",
    "embeddingDims = 10\n",
    "log(\"embeddingDims\", embeddingDims)\n",
    "\n",
    "hiddenLayerSize = 200\n",
    "log(\"hiddenLayerSize\", hiddenLayerSize)\n",
    "\n",
    "learningSeed = 2147483647\n",
    "log(\"learningSeed\", learningSeed)\n",
    "g = torch.Generator(device=dvc).manual_seed(learningSeed)\n",
    "\n",
    "np = makeNetwork(g, len(ldr.stoi), embeddingDims, contextSize, hiddenLayerSize, dtype, dvc)\n",
    "printNetworkInfo(np)\n",
    "    \n",
    "@torch.no_grad()\n",
    "def trLoss(): return getLoss(np, np.C[ds.tr.x], ds.tr.y)\n",
    "\n",
    "@torch.no_grad()\n",
    "def valLoss(): return getLoss(np, np.C[ds.val.x], ds.val.y)\n",
    "\n",
    "@torch.no_grad()\n",
    "def tstLoss(): return getLoss(np, np.C[ds.tst.x], ds.tst.y)\n",
    "\n",
    "def getLosses() -> Losses:\n",
    "    l = Losses()\n",
    "    l.tr = trLoss()\n",
    "    l.val = valLoss()\n",
    "    l.tst = tstLoss()\n",
    "    return l\n",
    "\n",
    "def logLosses():\n",
    "    losses = getLosses()\n",
    "    l1 = f\"{losses.tr.loss.item():>10.4f}\"\n",
    "    l2 = f\"{losses.val.loss.item():>10.4f}\"\n",
    "    l3 = f\"{losses.tst.loss.item():>10.4f}\"\n",
    "    logSimple(f\"{l1} {l2} {l3}\")"
   ]
  },
  {
   "cell_type": "code",
   "execution_count": 7,
   "metadata": {},
   "outputs": [
    {
     "name": "stdout",
     "output_type": "stream",
     "text": [
      "Learning:            -------------------------- 2023-07-21 17:02:21\n",
      "trainingBatchSize:   32\n",
      "trainingSteps: :     5708\n",
      "maxIteration:        2000\n",
      "repeats:             36\n",
      "maxLr:               0.14\n",
      "minLr:               0.0001\n",
      "actualIterations:    2000\n",
      "  0,      0 losses:     0.0000       5.2987     5.2984     5.2988\n",
      "Break at max iteration:\n",
      " final losses:          2.7376       2.4834     2.4747     2.4803\n",
      "emb.shape:           [32, 3, 10]\n",
      "logits.shape:        [32, 200]\n"
     ]
    }
   ],
   "source": [
    "logSection(\"Learning\")\n",
    "\n",
    "trainingBatchSize = 32\n",
    "log(\"trainingBatchSize\", trainingBatchSize)\n",
    "\n",
    "trXLength = ds.tr.x.shape[0]\n",
    "trainingSteps = (trXLength // trainingBatchSize) + 1\n",
    "log (\"trainingSteps: \", trainingSteps)\n",
    "\n",
    "maxIteration = 2_000\n",
    "log(\"maxIteration\", maxIteration)\n",
    "\n",
    "repeats = 36\n",
    "log(\"repeats\",repeats)\n",
    "\n",
    "maxLr = 0.14\n",
    "log(\"maxLr\", maxLr)\n",
    "\n",
    "minLr = 0.0001\n",
    "log(\"minLr\", minLr)\n",
    "\n",
    "actualIterations = min(maxIteration, repeats * math.ceil(trXLength / trainingBatchSize))\n",
    "log(\"actualIterations\", actualIterations)\n",
    "\n",
    "lrAtIx: list[float] = []\n",
    "stepIx: list[int] = []\n",
    "lossAtIx: list[float] = []\n",
    "logLossAtIx: list[float] = []\n",
    "up = UpdateNetResult()\n",
    "fr = ForwardPassResult()\n",
    "fr.loss = torch.tensor(0)\n",
    "i = 0\n",
    "bnMeanRunning = 0\n",
    "bnStdRunning = 0\n",
    "for repeat in range(repeats):\n",
    "    \n",
    "    if i >= maxIteration:\n",
    "        break;\n",
    "\n",
    "    logSimple(f\"{repeat:>3}, {i:>6} losses: {fr.loss.item():>10.4f}   \", end=\"\")\n",
    "    logLosses()\n",
    "\n",
    "    for start in range(0, trXLength, trainingBatchSize):\n",
    "\n",
    "        if i >= maxIteration:\n",
    "            log(\"Break at max iteration\")\n",
    "            break;\n",
    "        \n",
    "        end = min(start + trainingBatchSize, trXLength)\n",
    "        miniBatchIxs = torch.randint(0, trXLength, (trainingBatchSize,), generator=g, device=dvc)\n",
    "        fr = forwardPass(np, ds.tr.x, ds.tr.y, miniBatchIxs)\n",
    "        backwardPass(np.layers, np.parameters, fr.loss)\n",
    "\n",
    "        up = updateNet(np.parameters, i, actualIterations, maxLr, minLr)\n",
    "        lrAtIx.append(up.learningRate)\n",
    "\n",
    "        stepIx.append(i)\n",
    "        lossAtIx.append(fr.loss.item())\n",
    "        logLossAtIx.append(fr.loss.log10().item())\n",
    "\n",
    "        i += 1\n",
    "\n",
    "logSimple(f\" final losses: {fr.loss.item():>15.4f}   \", end=\"\")\n",
    "logLosses()\n",
    "\n",
    "#bestLr = lrs[findLowestIndex(lossAtIx)].item();\n",
    "#log(\"best learning rate\", bestLr)\n",
    "log(\"emb.shape\", fr.emb.shape)\n",
    "#log(\"h.shape\", fr.h.shape)\n",
    "log(\"logits.shape\", fr.logits.shape)"
   ]
  },
  {
   "cell_type": "code",
   "execution_count": 8,
   "metadata": {},
   "outputs": [
    {
     "name": "stdout",
     "output_type": "stream",
     "text": [
      "Sampling:            -------------------------- 2023-07-21 17:02:28\n",
      "samplingSeed:        2147483657\n",
      "maxSampleLength:     50\n"
     ]
    }
   ],
   "source": [
    "logSection(\"Sampling\")\n",
    "\n",
    "samplingSeed = learningSeed + 10\n",
    "gSampling = torch.Generator(device=dvc).manual_seed(samplingSeed)\n",
    "log(\"samplingSeed\", samplingSeed)\n",
    "\n",
    "maxSampleLength = 50\n",
    "log(\"maxSampleLength\", maxSampleLength)"
   ]
  },
  {
   "cell_type": "code",
   "execution_count": 50,
   "metadata": {},
   "outputs": [
    {
     "ename": "KeyError",
     "evalue": "190",
     "output_type": "error",
     "traceback": [
      "\u001b[1;31m---------------------------------------------------------------------------\u001b[0m",
      "\u001b[1;31mKeyError\u001b[0m                                  Traceback (most recent call last)",
      "Cell \u001b[1;32mIn[50], line 1\u001b[0m\n\u001b[1;32m----> 1\u001b[0m samples \u001b[39m=\u001b[39m sampleMany2(np2, gSampling, contextSize, itos, \u001b[39m20\u001b[39;49m, maxSampleLength)\n\u001b[0;32m      2\u001b[0m \u001b[39mfor\u001b[39;00m s \u001b[39min\u001b[39;00m samples:\n\u001b[0;32m      3\u001b[0m     logSimple(\u001b[39mf\u001b[39m\u001b[39m\"\u001b[39m\u001b[39m{\u001b[39;00m\u001b[39m'\u001b[39m\u001b[39m'\u001b[39m\u001b[39m.\u001b[39mjoin(s\u001b[39m.\u001b[39mvalues)\u001b[39m:\u001b[39;00m\u001b[39m<21\u001b[39m\u001b[39m}\u001b[39;00m\u001b[39m{\u001b[39;00m(s\u001b[39m.\u001b[39mprob\u001b[39m \u001b[39m\u001b[39m*\u001b[39m\u001b[39m \u001b[39m\u001b[39m10000\u001b[39m)\u001b[39m:\u001b[39;00m\u001b[39m>4.0f\u001b[39m\u001b[39m}\u001b[39;00m\u001b[39m: \u001b[39m\u001b[39m\"\u001b[39m, end\u001b[39m=\u001b[39m\u001b[39m\"\u001b[39m\u001b[39m\"\u001b[39m)\n",
      "File \u001b[1;32mc:\\Users\\m.minich\\Desktop\\Moje\\makemore-mm\\projects\\layers\\neural.py:75\u001b[0m, in \u001b[0;36msampleMany2\u001b[1;34m(np, g, contextSize, itos, countSamples, maxSampleLength)\u001b[0m\n\u001b[0;32m     73\u001b[0m samples: \u001b[39mlist\u001b[39m[Sample] \u001b[39m=\u001b[39m []\n\u001b[0;32m     74\u001b[0m \u001b[39mfor\u001b[39;00m _ \u001b[39min\u001b[39;00m \u001b[39mrange\u001b[39m(countSamples):\n\u001b[1;32m---> 75\u001b[0m     s \u001b[39m=\u001b[39m sampleOne2(np, g, contextSize, itos, maxSampleLength)\n\u001b[0;32m     76\u001b[0m     \u001b[39mif\u001b[39;00m s \u001b[39m==\u001b[39m \u001b[39mNone\u001b[39;00m:\n\u001b[0;32m     77\u001b[0m         \u001b[39mbreak\u001b[39;00m\n",
      "File \u001b[1;32mc:\\Users\\m.minich\\Desktop\\Moje\\makemore-mm\\projects\\layers\\neural.py:103\u001b[0m, in \u001b[0;36msampleOne2\u001b[1;34m(np, g, contextSize, itos, maxLength)\u001b[0m\n\u001b[0;32m    101\u001b[0m s\u001b[39m.\u001b[39mprobs\u001b[39m.\u001b[39mappend(probs[\u001b[39m0\u001b[39m, ix]\u001b[39m.\u001b[39mitem())\n\u001b[0;32m    102\u001b[0m context \u001b[39m=\u001b[39m context[\u001b[39m1\u001b[39m:] \u001b[39m+\u001b[39m [ix]\n\u001b[1;32m--> 103\u001b[0m s\u001b[39m.\u001b[39mvalues\u001b[39m.\u001b[39mappend(itos[ix])\n\u001b[0;32m    104\u001b[0m \u001b[39mif\u001b[39;00m ix \u001b[39m==\u001b[39m \u001b[39m0\u001b[39m: \n\u001b[0;32m    105\u001b[0m     \u001b[39mbreak\u001b[39;00m\n",
      "\u001b[1;31mKeyError\u001b[0m: 190"
     ]
    }
   ],
   "source": [
    "samples = sampleMany2(np, gSampling, contextSize, ldr.itos, 20, maxSampleLength)\n",
    "for s in samples:\n",
    "    logSimple(f\"{''.join(s.values):<21}{(s.prob * 10000):>4.0f}: \", end=\"\")\n",
    "    for p in s.probs:\n",
    "        logSimple(f\"{(p / (1 / 27) * 10):.0f} \", end=\"\")\n",
    "    logSimple()"
   ]
  },
  {
   "cell_type": "code",
   "execution_count": 36,
   "metadata": {},
   "outputs": [],
   "source": [
    "if newNet:\n",
    "    pass\n",
    "else:\n",
    "    def printProb(txt: str):\n",
    "        ps = calcProb(np, cal, txt, contextSize, stoi)\n",
    "        op = calcOneProb(ps)\n",
    "        logSimple(f\"{txt:<21}{(op * 10000):<7.0f}: \", end=\"\")\n",
    "        for p in ps:\n",
    "            logSimple(f\"{(p / (1 / 27) * 10):.0f} \", end=\"\")\n",
    "        logSimple()\n",
    "\n",
    "    printProb('.')\n",
    "    printProb('m.')\n",
    "    printProb('mi.')\n",
    "    printProb('mic.')\n",
    "    printProb('mich.')\n",
    "    printProb('micha.')\n",
    "    printProb('michal.')\n",
    "    printProb('michael.')\n",
    "    printProb('michaela.')\n",
    "    printProb('michaella.')\n",
    "    printProb('michel.')\n",
    "    printProb('michalx.')\n",
    "    printProb('michalxx.')\n",
    "    printProb('michalxxx.')\n",
    "    printProb('martin.')\n",
    "    printProb('andrej.')\n",
    "    printProb('andrey.')\n",
    "    printProb('joey.')\n",
    "    printProb('james.')\n",
    "    printProb('xin.')\n",
    "    printProb('maxim.')\n",
    "    printProb('alex.')\n",
    "    printProb('alexa.')"
   ]
  },
  {
   "cell_type": "code",
   "execution_count": 28,
   "metadata": {},
   "outputs": [],
   "source": [
    "if newNet:\n",
    "    pass\n",
    "else:\n",
    "    plt.plot(range(len(lrAtIx)), lrAtIx, \"black\")\n",
    "    plt.ylim(min(lrAtIx), max(lrAtIx))\n",
    "    plt.grid(True)\n",
    "    plt.show()\n",
    "    print(\"Actual min max LR\", max(lrAtIx), min(lrAtIx))"
   ]
  },
  {
   "cell_type": "code",
   "execution_count": 29,
   "metadata": {},
   "outputs": [],
   "source": [
    "if newNet:\n",
    "    pass\n",
    "else:\n",
    "    plt.figure(figsize=(20,10))\n",
    "    plt.imshow(fr.h.abs() > 0.99, cmap=\"gray\", interpolation=\"nearest\")"
   ]
  },
  {
   "cell_type": "code",
   "execution_count": 30,
   "metadata": {},
   "outputs": [],
   "source": [
    "if newNet:\n",
    "    pass\n",
    "else:\n",
    "    fig, ax = plt.subplots()\n",
    "    fig.set_facecolor(\"#777777\")\n",
    "    ax.set_facecolor(\"#222222\")\n",
    "    #ax.plot(lrAtIx, lossAtIx)\n",
    "    plt.show()"
   ]
  },
  {
   "cell_type": "code",
   "execution_count": 31,
   "metadata": {},
   "outputs": [],
   "source": [
    "if newNet:\n",
    "    pass\n",
    "else:\n",
    "    fig, ax = plt.subplots()\n",
    "    fig.set_facecolor(\"#777777\")\n",
    "    ax.set_facecolor(\"#222222\")\n",
    "    ax.plot(stepIx, lossAtIx)\n",
    "    plt.show()"
   ]
  },
  {
   "cell_type": "code",
   "execution_count": 32,
   "metadata": {},
   "outputs": [],
   "source": [
    "if newNet:\n",
    "    pass\n",
    "else:\n",
    "    fig, ax = plt.subplots()\n",
    "    fig.set_facecolor(\"#777777\")\n",
    "    ax.set_facecolor(\"#222222\")\n",
    "    ax.plot(stepIx, logLossAtIx)\n",
    "    plt.show()"
   ]
  },
  {
   "cell_type": "code",
   "execution_count": 33,
   "metadata": {},
   "outputs": [],
   "source": [
    "if newNet:\n",
    "    pass\n",
    "else:\n",
    "    dim = 0\n",
    "    fig = plt.figure(figsize=(8,8))\n",
    "    fig.set_facecolor(\"#777777\")\n",
    "    sc = plt.scatter(np.C[:, dim].data, np.C[:,dim + 1].data, s=200)\n",
    "    for i in range(np.C.shape[0]):\n",
    "        plt.text(np.C[i, dim].item(), np.C[i, dim + 1].item(), itos[i], ha=\"center\", va=\"center\", color=\"white\")\n",
    "    plt.grid()"
   ]
  },
  {
   "cell_type": "code",
   "execution_count": 34,
   "metadata": {},
   "outputs": [],
   "source": [
    "#np.C.shape, trX.shape, np.C[trX].shape, np.C[:5], trX[:5], np.C[trX][:5]"
   ]
  },
  {
   "cell_type": "code",
   "execution_count": 35,
   "metadata": {},
   "outputs": [
    {
     "name": "stdout",
     "output_type": "stream",
     "text": [
      "[[0.8774, -0.6801], [0.8774, -0.6801], [0.8774, -0.6801]]\n",
      "[[0.8774, -0.6801], [0.8774, -0.6801], [0.0965, -0.5708]]\n",
      "[[0.8774, -0.6801], [0.0965, -0.5708], [0.218, -0.382]]\n",
      "[[0.0965, -0.5708], [0.218, -0.382], [-0.5288, 0.7074]]\n",
      "[[0.218, -0.382], [-0.5288, 0.7074], [-0.3088, 0.9816]]\n"
     ]
    }
   ],
   "source": [
    "# Let\"s suppose these are your lists\n",
    "C = [\n",
    "[ 0.8774, -0.6801],\n",
    "         [ 0.1651, -0.5025],\n",
    "         [ 0.2769, -0.3570],\n",
    "         [-0.8820,  0.3902],\n",
    "         [-0.4824,  0.8744],\n",
    "         [-0.3190,  0.7807],\n",
    "         [-0.0100, -0.3401],\n",
    "         [ 0.9975,  2.8280],\n",
    "         [ 0.9623, -1.3172],\n",
    "         [ 0.2180, -0.3820],\n",
    "         [ 0.6139, -0.4287],\n",
    "         [-0.7386,  0.5880],\n",
    "         [-0.3088,  0.9816],\n",
    "         [ 0.3907, -0.4174],\n",
    "         [-0.7380,  0.5205],\n",
    "         [-0.5288,  0.7074],\n",
    "         [-0.3956,  0.9625],\n",
    "         [-0.3802, -0.3504],\n",
    "         [-0.2861,  0.7589],\n",
    "         [ 0.5309, -0.5105],\n",
    "         [-0.0922, -0.6410],\n",
    "         [-0.3823,  0.9899],\n",
    "         [ 0.0965, -0.5708],\n",
    "         [-0.8582, -1.3429],\n",
    "         [-0.4960,  0.2842],\n",
    "         [-0.6105,  0.1336],\n",
    "         [-0.2623,  0.2942]\n",
    "]\n",
    "trX = [\n",
    "    [0, 0, 0],\n",
    "    [0, 0, 22],\n",
    "    [0, 22, 9],\n",
    "    [22, 9, 15],\n",
    "    [9, 15, 12],\n",
    "    # ... More values\n",
    "]\n",
    "\n",
    "# We create a new list to hold the result\n",
    "result = []\n",
    "\n",
    "# We loop over each element in trX\n",
    "for i in range(len(trX)):\n",
    "    temp = []\n",
    "    # Then we loop over each value in the element\n",
    "    for j in range(len(trX[i])):\n",
    "        # We use the value as an index to get the corresponding data from C\n",
    "        temp.append(C[trX[i][j]])\n",
    "    # We add the result to our new list\n",
    "    result.append(temp)\n",
    "\n",
    "# Let\"s log the first 5 elements of the result list\n",
    "for i in range(5):\n",
    "    print(result[i])"
   ]
  }
 ],
 "metadata": {
  "kernelspec": {
   "display_name": "Python 3",
   "language": "python",
   "name": "python3"
  },
  "language_info": {
   "codemirror_mode": {
    "name": "ipython",
    "version": 3
   },
   "file_extension": ".py",
   "mimetype": "text/x-python",
   "name": "python",
   "nbconvert_exporter": "python",
   "pygments_lexer": "ipython3",
   "version": "3.11.2"
  },
  "orig_nbformat": 4
 },
 "nbformat": 4,
 "nbformat_minor": 2
}
