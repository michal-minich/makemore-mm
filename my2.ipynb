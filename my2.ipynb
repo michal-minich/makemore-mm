{
 "cells": [
  {
   "cell_type": "code",
   "execution_count": 318,
   "metadata": {},
   "outputs": [
    {
     "name": "stdout",
     "output_type": "stream",
     "text": [
      "The autoreload extension is already loaded. To reload it, use:\n",
      "  %reload_ext autoreload\n"
     ]
    }
   ],
   "source": [
    "%load_ext autoreload\n",
    "%autoreload 2\n",
    "import torch\n",
    "import torch.nn.functional as F\n",
    "from torch import Tensor\n",
    "from datetime import datetime\n",
    "import math\n",
    "import random\n",
    "from mynn import *\n",
    "import numpy as NP\n",
    "import matplotlib.pyplot as plt\n",
    "%matplotlib inline"
   ]
  },
  {
   "cell_type": "code",
   "execution_count": 319,
   "metadata": {},
   "outputs": [
    {
     "name": "stdout",
     "output_type": "stream",
     "text": [
      "2023-07-06 15:16:01  ==========================================:\n",
      "dtype:               torch.float32\n",
      "device:              cpu\n",
      "rndSeed:             42\n",
      "trRatio:             0.8\n",
      "devRatio:            0.9\n",
      "contextSize:         3\n",
      "embeddingDims:       10\n",
      "hiddenLayerSize:     200\n",
      "trainingBatchSize:   32\n",
      "rndSeed2:            2147483647\n",
      "first few words:     ['yuheng', 'diondre', 'xavien', 'jori', 'juanluis']\n",
      "lenWords:            32033\n",
      "allPossibleChars:    ['a', 'b', 'c', 'd', 'e', 'f', 'g', 'h', 'i', 'j', 'k', 'l', 'm', 'n', 'o', 'p', 'q', 'r', 's', 't', 'u', 'v', 'w', 'x', 'y', 'z']\n",
      "stoi:                {'a': 1, 'b': 2, 'c': 3, 'd': 4, 'e': 5, 'f': 6, 'g': 7, 'h': 8, 'i': 9, 'j': 10, 'k': 11, 'l': 12, 'm': 13, 'n': 14, 'o': 15, 'p': 16, 'q': 17, 'r': 18, 's': 19, 't': 20, 'u': 21, 'v': 22, 'w': 23, 'x': 24, 'y': 25, 'z': 26, '.': 0}\n",
      "itos:                {1: 'a', 2: 'b', 3: 'c', 4: 'd', 5: 'e', 6: 'f', 7: 'g', 8: 'h', 9: 'i', 10: 'j', 11: 'k', 12: 'l', 13: 'm', 14: 'n', 15: 'o', 16: 'p', 17: 'q', 18: 'r', 19: 's', 20: 't', 21: 'u', 22: 'v', 23: 'w', 24: 'x', 25: 'y', 26: 'z', 0: '.'}\n",
      "vocabularyLength:    27\n",
      "data set training:   25626 torch.Size([182625, 3]) torch.Size([182625]) ['yuheng', 'diondre', 'xavien']\n",
      "data set dev:        3203 torch.Size([22655, 3]) torch.Size([22655]) ['amay', 'aytana', 'jenevi']\n",
      "data set test:       3204 torch.Size([22866, 3]) torch.Size([22866]) ['mustafa', 'reuben', 'kahlel']\n",
      "parametersCount:     11897\n",
      "random probability:  3.2958\n",
      "trainingSteps: :     5708\n"
     ]
    }
   ],
   "source": [
    "initLogging()\n",
    "\n",
    "dtype = torch.float\n",
    "\n",
    "log(\"dtype\", dtype)\n",
    "\n",
    "dvc = torch.device(\"cpu\")\n",
    "\n",
    "log(\"device\", dvc.type)\n",
    "\n",
    "rndSeed = 42\n",
    "log(\"rndSeed\", rndSeed)\n",
    "\n",
    "trRatio = 0.8\n",
    "log(\"trRatio\", trRatio)\n",
    "\n",
    "devRatio = 0.9\n",
    "log(\"devRatio\", devRatio)\n",
    "\n",
    "contextSize = 3\n",
    "log(\"contextSize\", contextSize)\n",
    "\n",
    "embeddingDims = 10\n",
    "log(\"embeddingDims\", embeddingDims)\n",
    "\n",
    "hiddenLayerSize = 200\n",
    "log(\"hiddenLayerSize\", hiddenLayerSize)\n",
    "\n",
    "trainingBatchSize = 32\n",
    "log(\"trainingBatchSize\", trainingBatchSize)\n",
    "\n",
    "rndSeed2 = 2147483647\n",
    "log(\"rndSeed2\", rndSeed2)\n",
    "\n",
    "g = torch.Generator(device=dvc).manual_seed(rndSeed2)\n",
    "gSampling = torch.Generator(device=dvc).manual_seed(rndSeed2 + 10)\n",
    "\n",
    "words = readFileSplitByLine(\"names.txt\")\n",
    "random.seed(rndSeed)\n",
    "random.shuffle(words)\n",
    "log(\"first few words\", words[:5])\n",
    "\n",
    "lenWords = len(words);\n",
    "log(\"lenWords\", lenWords)\n",
    "\n",
    "allPossibleChars = sorted(list(set(\"\".join(words))))\n",
    "log(\"allPossibleChars\", allPossibleChars)\n",
    "\n",
    "stoi = sToI(allPossibleChars)\n",
    "log(\"stoi\", stoi)\n",
    "\n",
    "itos = iToS(stoi)\n",
    "log(\"itos\", itos)\n",
    "\n",
    "vocabularyLength = len(itos)\n",
    "log(\"vocabularyLength\", vocabularyLength)\n",
    "\n",
    "lenTrain = int(trRatio * lenWords)\n",
    "trWords = words[:lenTrain]\n",
    "trX, trY = buildDataSet(trWords, contextSize, stoi, itos, dvc)\n",
    "log(\"data set training\", lenTrain, trX.shape, trY.shape, trWords[:3])\n",
    "\n",
    "endDev = int(devRatio * lenWords)\n",
    "devWords = words[lenTrain:endDev];\n",
    "devX, devY = buildDataSet(devWords, contextSize, stoi, itos, dvc)\n",
    "log(\"data set dev\", endDev - lenTrain, devX.shape, devY.shape, devWords[:3])\n",
    "\n",
    "lenTest = lenWords - endDev\n",
    "tstWords = words[endDev:]\n",
    "tstX, tstY = buildDataSet(tstWords, contextSize, stoi, itos, dvc)\n",
    "log(\"data set test\", lenTest, tstX.shape, tstY.shape, tstWords[:3])\n",
    "\n",
    "np = makeNetwork(g, vocabularyLength, embeddingDims, contextSize, hiddenLayerSize, dvc)\n",
    "log(\"parametersCount\", sum(p.nelement() for p in np.all))\n",
    "\n",
    "log(\"random probability\", f\"{-torch.tensor(1 / vocabularyLength).log().item():.4f}\")\n",
    "\n",
    "@torch.no_grad()\n",
    "def trLoss(): return getLoss(np, np.C[trX], trY)\n",
    "\n",
    "@torch.no_grad()\n",
    "def devLoss(): return getLoss(np, np.C[devX], devY)\n",
    "\n",
    "@torch.no_grad()\n",
    "def tstLoss(): return getLoss(np, np.C[tstX], tstY)\n",
    "\n",
    "class Losses:\n",
    "    tr: Loss\n",
    "    dev: Loss\n",
    "    tst: Loss\n",
    "\n",
    "def getLosses() -> Losses:\n",
    "    l = Losses()\n",
    "    l.tr = trLoss()\n",
    "    l.dev = devLoss()\n",
    "    l.tst = tstLoss()\n",
    "    return l\n",
    "\n",
    "def logLosses():\n",
    "    losses = getLosses()\n",
    "    l1 = f\"{losses.tr.loss.item():>10.4f}\"\n",
    "    l2 = f\"{losses.dev.loss.item():>10.4f}\"\n",
    "    l3 = f\"{losses.tst.loss.item():>10.4f}\"\n",
    "    log(f\"{l1} {l2} {l3}\")\n",
    "\n",
    "trXLength = trX.shape[0]\n",
    "trainingSteps = (trXLength // trainingBatchSize) + 1\n",
    "log (\"trainingSteps: \", trainingSteps)\n",
    "\n",
    "lr = 0.1;\n",
    "lre = torch.linspace(-3, 0, trainingSteps)\n",
    "lrs = 10 ** lre\n",
    "lrAtIx: list[float] = []\n",
    "stepIx: list[int] = []\n",
    "lossAtIx: list[float] = []\n",
    "logLossAtIx: list[float] = []\n",
    "fr = ForwardPassResult()\n",
    "fr.loss = torch.tensor(0)\n",
    "up = UpdateNetResult()"
   ]
  },
  {
   "cell_type": "code",
   "execution_count": 320,
   "metadata": {},
   "outputs": [
    {
     "name": "stdout",
     "output_type": "stream",
     "text": [
      "Learning:            -------------------------- 2023-07-06_15_16_03\n",
      "maxIteration:        1\n",
      "repeats:             36\n",
      "maxLr:               0.14\n",
      "minLr:               0.0001\n",
      "actualIterations:    1\n",
      "  0,      0 losses:     0.0000   :    3.3058     3.3057     3.3058:\n",
      "break:              \n",
      "  1,      1 losses:     3.3135   :    3.2192     3.2194     3.2186:\n",
      "break:              \n",
      "  2,      1 losses:     3.3135   :    3.2192     3.2194     3.2186:\n",
      "break:              \n",
      "  3,      1 losses:     3.3135   :    3.2192     3.2194     3.2186:\n",
      "break:              \n",
      "  4,      1 losses:     3.3135   :    3.2192     3.2194     3.2186:\n",
      "break:              \n",
      "  5,      1 losses:     3.3135   :    3.2192     3.2194     3.2186:\n",
      "break:              \n",
      "  6,      1 losses:     3.3135   :    3.2192     3.2194     3.2186:\n",
      "break:              \n",
      "  7,      1 losses:     3.3135   :    3.2192     3.2194     3.2186:\n",
      "break:              \n",
      "  8,      1 losses:     3.3135   :    3.2192     3.2194     3.2186:\n",
      "break:              \n",
      "  9,      1 losses:     3.3135   :    3.2192     3.2194     3.2186:\n",
      "break:              \n",
      " 10,      1 losses:     3.3135   :    3.2192     3.2194     3.2186:\n",
      "break:              \n",
      " 11,      1 losses:     3.3135   :    3.2192     3.2194     3.2186:\n",
      "break:              \n",
      " 12,      1 losses:     3.3135   :    3.2192     3.2194     3.2186:\n",
      "break:              \n",
      " 13,      1 losses:     3.3135   :    3.2192     3.2194     3.2186:\n",
      "break:              \n",
      " 14,      1 losses:     3.3135   :    3.2192     3.2194     3.2186:\n",
      "break:              \n",
      " 15,      1 losses:     3.3135   :    3.2192     3.2194     3.2186:\n",
      "break:              \n",
      " 16,      1 losses:     3.3135   :    3.2192     3.2194     3.2186:\n",
      "break:              \n",
      " 17,      1 losses:     3.3135   :    3.2192     3.2194     3.2186:\n",
      "break:              \n",
      " 18,      1 losses:     3.3135   :    3.2192     3.2194     3.2186:\n",
      "break:              \n",
      " 19,      1 losses:     3.3135   :    3.2192     3.2194     3.2186:\n",
      "break:              \n",
      " 20,      1 losses:     3.3135   :    3.2192     3.2194     3.2186:\n",
      "break:              \n",
      " 21,      1 losses:     3.3135   :    3.2192     3.2194     3.2186:\n",
      "break:              \n",
      " 22,      1 losses:     3.3135   :    3.2192     3.2194     3.2186:\n",
      "break:              \n",
      " 23,      1 losses:     3.3135   :    3.2192     3.2194     3.2186:\n",
      "break:              \n",
      " 24,      1 losses:     3.3135   :    3.2192     3.2194     3.2186:\n",
      "break:              \n",
      " 25,      1 losses:     3.3135   :    3.2192     3.2194     3.2186:\n",
      "break:              \n",
      " 26,      1 losses:     3.3135   :    3.2192     3.2194     3.2186:\n",
      "break:              \n",
      " 27,      1 losses:     3.3135   :    3.2192     3.2194     3.2186:\n",
      "break:              \n",
      " 28,      1 losses:     3.3135   :    3.2192     3.2194     3.2186:\n",
      "break:              \n",
      " 29,      1 losses:     3.3135   :    3.2192     3.2194     3.2186:\n",
      "break:              \n",
      " 30,      1 losses:     3.3135   :    3.2192     3.2194     3.2186:\n",
      "break:              \n",
      " 31,      1 losses:     3.3135   :    3.2192     3.2194     3.2186:\n",
      "break:              \n",
      " 32,      1 losses:     3.3135   :    3.2192     3.2194     3.2186:\n",
      "break:              \n",
      " 33,      1 losses:     3.3135   :    3.2192     3.2194     3.2186:\n",
      "break:              \n",
      " 34,      1 losses:     3.3135   :    3.2192     3.2194     3.2186:\n",
      "break:              \n",
      " 35,      1 losses:     3.3135   :    3.2192     3.2194     3.2186:\n",
      "break:              \n",
      "    3.2192     3.2194     3.2186:\n",
      "emb.shape:           torch.Size([32, 3, 10])\n",
      "h.shape:             torch.Size([32, 200])\n",
      "logits.shape:        torch.Size([32, 27])\n"
     ]
    }
   ],
   "source": [
    "logSection(\"Learning\")\n",
    "\n",
    "maxIteration = 1\n",
    "log(\"maxIteration\",maxIteration)\n",
    "\n",
    "repeats = 36\n",
    "log(\"repeats\",repeats)\n",
    "\n",
    "maxLr = 0.14\n",
    "log(\"maxLr\", maxLr)\n",
    "\n",
    "minLr = 0.0001\n",
    "log(\"minLr\", minLr)\n",
    "\n",
    "actualIterations = min(maxIteration, repeats * math.ceil(trXLength / trainingBatchSize))\n",
    "log(\"actualIterations\", actualIterations)\n",
    "\n",
    "i = 0\n",
    "for repeat in range(repeats):\n",
    "    \n",
    "    log(f\"{repeat:>3}, {i:>6} losses: {fr.loss.item():>10.4f}   \", end=\"\")\n",
    "    logLosses()\n",
    "\n",
    "    for start in range(0, trXLength, trainingBatchSize):\n",
    "\n",
    "        if i >= maxIteration:\n",
    "            log(\"break\")\n",
    "            break;\n",
    "        \n",
    "        end = min(start + trainingBatchSize, trXLength)\n",
    "        #miniBatchIxs = torch.arange(start, end)\n",
    "        miniBatchIxs = torch.randint(0, trXLength, (trainingBatchSize,), generator=g, device=dvc)\n",
    "        fr = forwardPass(np, trX, trY, miniBatchIxs)\n",
    "        \n",
    "        backwardPass(np.all, fr.loss)\n",
    "\n",
    "        if i == 1:\n",
    "            plt.figure(figsize=(20,10))\n",
    "            plt.imshow(fr.h.abs() > 0.99, cmap=\"gray\", interpolation=\"nearest\")\n",
    "        \n",
    "        up = updateNet(np.all, i, actualIterations, maxLr, minLr)\n",
    "        lrAtIx.append(up.learningRate)\n",
    "\n",
    "        stepIx.append(i)\n",
    "        lossAtIx.append(fr.loss.item())\n",
    "        logLossAtIx.append(fr.loss.log10().item())\n",
    "\n",
    "        #lr = lrs[i].item()\n",
    "        #lrAtIx.append(lrs[i].item())\n",
    "\n",
    "        #if repeat == 0 and i % (trainingBatchSize * 10) == 0:\n",
    "        #    log(f\"{repeat:>3}, {i:>6} losses: {fr.loss.item():>10.4f}   \")\n",
    "\n",
    "        #if i % 10_000 == 0:\n",
    "        #    log(f\"{repeat:>3}, {i:>6} losses: {fr.loss.item():>10.4f}   \")\n",
    "        \n",
    "        i += 1\n",
    "\n",
    "logLosses()\n",
    "\n",
    "#bestLr = lrs[findLowestIndex(lossAtIx)].item();\n",
    "#log(\"best learning rate\", bestLr)\n",
    "log(\"emb.shape\", fr.emb.shape)\n",
    "log(\"h.shape\", fr.h.shape)\n",
    "log(\"logits.shape\", fr.logits.shape)"
   ]
  },
  {
   "cell_type": "code",
   "execution_count": 321,
   "metadata": {},
   "outputs": [
    {
     "name": "stderr",
     "output_type": "stream",
     "text": [
      "C:\\Users\\m.minich\\AppData\\Local\\Temp\\ipykernel_22280\\2748416694.py:2: UserWarning: Attempting to set identical low and high ylims makes transformation singular; automatically expanding.\n",
      "  plt.ylim(min(lrAtIx), max(lrAtIx))\n"
     ]
    },
    {
     "data": {
      "image/png": "[encoded data removed]",
      "text/plain": [
       "<Figure size 640x480 with 1 Axes>"
      ]
     },
     "metadata": {},
     "output_type": "display_data"
    },
    {
     "name": "stdout",
     "output_type": "stream",
     "text": [
      "Actual min max LR 0.14 0.14\n"
     ]
    }
   ],
   "source": [
    "plt.plot(range(len(lrAtIx)), lrAtIx, \"black\")\n",
    "plt.ylim(min(lrAtIx), max(lrAtIx))\n",
    "plt.grid(True)\n",
    "plt.show()\n",
    "print(\"Actual min max LR\", max(lrAtIx), min(lrAtIx))"
   ]
  },
  {
   "cell_type": "code",
   "execution_count": 322,
   "metadata": {},
   "outputs": [
    {
     "data": {
      "text/plain": [
       "<matplotlib.image.AxesImage at 0x207cb4f2590>"
      ]
     },
     "execution_count": 322,
     "metadata": {},
     "output_type": "execute_result"
    },
    {
     "data": {
      "image/png": "[encoded data removed]",
      "text/plain": [
       "<Figure size 2000x1000 with 1 Axes>"
      ]
     },
     "metadata": {},
     "output_type": "display_data"
    }
   ],
   "source": [
    "plt.figure(figsize=(20,10))\n",
    "plt.imshow(fr.h.abs() > 0.99, cmap=\"gray\", interpolation=\"nearest\")"
   ]
  },
  {
   "cell_type": "code",
   "execution_count": 323,
   "metadata": {},
   "outputs": [
    {
     "data": {
      "image/png": "[encoded data removed]",
      "text/plain": [
       "<Figure size 640x480 with 1 Axes>"
      ]
     },
     "metadata": {},
     "output_type": "display_data"
    }
   ],
   "source": [
    "plt.hist(fr.h.view(-1).tolist(), 100);"
   ]
  },
  {
   "cell_type": "code",
   "execution_count": 324,
   "metadata": {},
   "outputs": [
    {
     "data": {
      "image/png": "[encoded data removed]",
      "text/plain": [
       "<Figure size 640x480 with 1 Axes>"
      ]
     },
     "metadata": {},
     "output_type": "display_data"
    }
   ],
   "source": [
    "plt.hist(fr.hPreActivations.view(-1).tolist(), 100);"
   ]
  },
  {
   "cell_type": "code",
   "execution_count": 325,
   "metadata": {},
   "outputs": [
    {
     "data": {
      "image/png": "[encoded data removed]",
      "text/plain": [
       "<Figure size 640x480 with 1 Axes>"
      ]
     },
     "metadata": {},
     "output_type": "display_data"
    }
   ],
   "source": [
    "fig, ax = plt.subplots()\n",
    "fig.set_facecolor(\"#777777\")\n",
    "ax.set_facecolor(\"#222222\")\n",
    "#ax.plot(lrAtIx, lossAtIx)\n",
    "plt.show()"
   ]
  },
  {
   "cell_type": "code",
   "execution_count": 326,
   "metadata": {},
   "outputs": [
    {
     "data": {
      "image/png": "[encoded data removed]",
      "text/plain": [
       "<Figure size 640x480 with 1 Axes>"
      ]
     },
     "metadata": {},
     "output_type": "display_data"
    }
   ],
   "source": [
    "fig, ax = plt.subplots()\n",
    "fig.set_facecolor(\"#777777\")\n",
    "ax.set_facecolor(\"#222222\")\n",
    "ax.plot(stepIx, lossAtIx)\n",
    "plt.show()"
   ]
  },
  {
   "cell_type": "code",
   "execution_count": 327,
   "metadata": {},
   "outputs": [
    {
     "data": {
      "image/png": "[encoded data removed]",
      "text/plain": [
       "<Figure size 640x480 with 1 Axes>"
      ]
     },
     "metadata": {},
     "output_type": "display_data"
    }
   ],
   "source": [
    "fig, ax = plt.subplots()\n",
    "fig.set_facecolor(\"#777777\")\n",
    "ax.set_facecolor(\"#222222\")\n",
    "ax.plot(stepIx, logLossAtIx)\n",
    "plt.show()"
   ]
  },
  {
   "cell_type": "code",
   "execution_count": 328,
   "metadata": {},
   "outputs": [
    {
     "data": {
      "image/png": "[encoded data removed]",
      "text/plain": [
       "<Figure size 800x800 with 1 Axes>"
      ]
     },
     "metadata": {},
     "output_type": "display_data"
    }
   ],
   "source": [
    "dim = 0\n",
    "fig = plt.figure(figsize=(8,8))\n",
    "fig.set_facecolor(\"#777777\")\n",
    "sc = plt.scatter(np.C[:, dim].data, np.C[:,dim + 1].data, s=200)\n",
    "for i in range(np.C.shape[0]):\n",
    "    plt.text(np.C[i, dim].item(), np.C[i, dim + 1].item(), itos[i], ha=\"center\", va=\"center\", color=\"white\")\n",
    "plt.grid(\"minor\")"
   ]
  },
  {
   "cell_type": "code",
   "execution_count": 333,
   "metadata": {},
   "outputs": [
    {
     "name": "stdout",
     "output_type": "stream",
     "text": [
      "Sampling:            -------------------------- 2023-07-06_15_16_41\n",
      "ascnpc.  11 108 96 95 103 103 98 76 \n",
      "cilwtanczhnd.  7 97 104 80 88 99 94 110 97 104 98 97 103 137 \n",
      "ebimm.  21 103 118 107 87 93 122 \n",
      "ynwfluzjaghwehtvggujbklwvofjiuzx.  1 86 95 85 102 111 124 103 101 94 99 89 93 103 78 106 90 104 95 106 93 95 94 116 81 106 91 107 86 98 100 92 95 129 \n",
      "zufhraijjuuy.  10 88 125 98 97 97 110 93 98 100 92 92 102 142 \n",
      "t.  58 80 145 \n",
      "ccliuisjzfxvotxomeorie.  15 97 104 80 99 116 115 100 107 98 116 96 106 103 118 108 102 91 118 98 118 96 104 158 \n",
      "qqjkzdvawyifgqlsmuomvvnegbgdiyhtwt.  2 97 103 87 98 79 100 105 89 89 91 100 97 99 89 115 100 93 110 89 92 97 87 106 103 104 99 104 110 110 96 97 90 90 97 158 \n",
      "jwfvcgdv.  12 87 87 106 121 101 105 105 88 115 \n",
      "beejsxrsy.  13 129 105 90 105 96 102 101 87 113 105 \n",
      "nabhxtnxeardpqyjmxsq.  2 93 115 80 79 98 111 94 111 109 96 110 97 87 87 102 109 92 96 85 94 72 \n",
      "jkobetcfmsncovpepyckoajkdgvoyelrpfpayamrtkchqpjplbjztuqqcjteuesulsjivxawfahvyevktorgdxltd.  2 87 104 101 95 112 112 82 102 105 95 91 89 112 119 96 94 92 110 100 114 92 110 89 96 113 115 92 91 121 95 145 115 92 86 102 104 97 97 88 101 109 107 103 97 93 118 109 97 91 81 110 97 122 95 89 98 95 102 95 85 87 119 95 94 96 97 115 85 88 102 96 81 82 92 92 96 133 99 125 114 93 100 121 90 101 100 127 105 102 168 \n",
      "nbsbnlbzwxldk.  8 93 110 102 96 108 126 101 88 88 85 98 95 89 154 \n",
      "rwskvagjdxsnfaapwhalzihpoekfm.  4 139 89 104 102 94 91 97 94 116 99 100 100 89 109 113 87 82 68 89 122 102 113 94 99 109 113 121 94 93 141 \n",
      "ggutxisjacdkhded.  5 95 102 113 98 102 79 101 94 94 92 102 97 111 112 86 91 122 \n",
      "despoeiazwzwchygilt.  8 84 88 119 82 115 112 92 114 85 82 96 111 96 90 98 102 108 112 102 197 \n",
      "qrm.  28 97 131 96 91 \n",
      "wyjlfa.  33 88 101 76 114 106 116 241 \n",
      "elvkuowan.  17 103 94 102 102 134 103 88 109 100 130 \n",
      "ydopxwyzbummhasomdeiy.  9 86 81 102 89 100 115 127 91 89 104 92 97 111 106 99 108 100 109 96 100 106 203 \n"
     ]
    }
   ],
   "source": [
    "logSection(\"Sampling\")\n",
    "\n",
    "samples = sample(np, gSampling, contextSize, itos, 20)\n",
    "for s in samples:\n",
    "    logSimple(\"\".join(s.values) + \"  \", end=\"\")\n",
    "    for p in [s.prob] + s.probs:\n",
    "        logSimple(f\"{(p * 100):.0f} \", end=\"\")\n",
    "    logSimple()"
   ]
  },
  {
   "cell_type": "code",
   "execution_count": 330,
   "metadata": {},
   "outputs": [
    {
     "name": "stdout",
     "output_type": "stream",
     "text": [
      "30 82 110 100 133 "
     ]
    }
   ],
   "source": [
    "ps = calcProb(np, \"mel.\", contextSize, stoi)\n",
    "op = calcOneProb(ps)\n",
    "for p in [op] + ps:\n",
    "    logSimple(f\"{(p * 100):.0f} \", end=\"\")"
   ]
  },
  {
   "cell_type": "code",
   "execution_count": 331,
   "metadata": {},
   "outputs": [
    {
     "data": {
      "text/plain": [
       "(torch.Size([27, 10]),\n",
       " torch.Size([182625, 3]),\n",
       " torch.Size([182625, 3, 10]),\n",
       " tensor([[ 1.5675, -0.2380, -0.0274, -1.1011,  0.2853, -0.0305, -1.5467,  0.6048,\n",
       "           0.0794,  0.9046],\n",
       "         [-0.4711,  0.7871, -0.3283, -0.4330,  1.3727,  2.9331,  1.5619, -1.6261,\n",
       "           0.6771, -0.8406],\n",
       "         [ 0.9850, -0.1483, -1.4794,  0.4483, -0.0707,  2.4969,  2.4448, -0.6701,\n",
       "          -1.2198,  0.3032],\n",
       "         [-1.0726,  0.7276,  0.0511,  1.3096, -0.8021, -0.8503, -1.8068,  1.2522,\n",
       "          -1.2256,  1.2165],\n",
       "         [-0.9648, -0.2321, -0.3477,  0.3324, -1.3264,  1.1223,  0.5963,  0.4585,\n",
       "           0.0541, -1.7400]], grad_fn=<SliceBackward0>),\n",
       " tensor([[ 0,  0,  0],\n",
       "         [ 0,  0, 25],\n",
       "         [ 0, 25, 21],\n",
       "         [25, 21,  8],\n",
       "         [21,  8,  5]]),\n",
       " tensor([[[ 1.5675, -0.2380, -0.0274, -1.1011,  0.2853, -0.0305, -1.5467,\n",
       "            0.6048,  0.0794,  0.9046],\n",
       "          [ 1.5675, -0.2380, -0.0274, -1.1011,  0.2853, -0.0305, -1.5467,\n",
       "            0.6048,  0.0794,  0.9046],\n",
       "          [ 1.5675, -0.2380, -0.0274, -1.1011,  0.2853, -0.0305, -1.5467,\n",
       "            0.6048,  0.0794,  0.9046]],\n",
       " \n",
       "         [[ 1.5675, -0.2380, -0.0274, -1.1011,  0.2853, -0.0305, -1.5467,\n",
       "            0.6048,  0.0794,  0.9046],\n",
       "          [ 1.5675, -0.2380, -0.0274, -1.1011,  0.2853, -0.0305, -1.5467,\n",
       "            0.6048,  0.0794,  0.9046],\n",
       "          [-1.2800,  0.0924,  0.1055, -0.3905,  0.0316, -0.5475,  0.8183,\n",
       "           -0.8167, -0.3926, -0.7452]],\n",
       " \n",
       "         [[ 1.5675, -0.2380, -0.0274, -1.1011,  0.2853, -0.0305, -1.5467,\n",
       "            0.6048,  0.0794,  0.9046],\n",
       "          [-1.2800,  0.0924,  0.1055, -0.3905,  0.0316, -0.5475,  0.8183,\n",
       "           -0.8167, -0.3926, -0.7452],\n",
       "          [-0.2478,  0.8828, -0.0807, -0.9529, -0.4880, -0.7371,  0.7063,\n",
       "           -0.1929,  1.2346,  0.3332]],\n",
       " \n",
       "         [[-1.2800,  0.0924,  0.1055, -0.3905,  0.0316, -0.5475,  0.8183,\n",
       "           -0.8167, -0.3926, -0.7452],\n",
       "          [-0.2478,  0.8828, -0.0807, -0.9529, -0.4880, -0.7371,  0.7063,\n",
       "           -0.1929,  1.2346,  0.3332],\n",
       "          [-1.1640,  1.2473, -0.2705, -1.3633,  1.3066,  0.3230,  1.0357,\n",
       "           -0.8626, -1.2572,  0.9418]],\n",
       " \n",
       "         [[-0.2478,  0.8828, -0.0807, -0.9529, -0.4880, -0.7371,  0.7063,\n",
       "           -0.1929,  1.2346,  0.3332],\n",
       "          [-1.1640,  1.2473, -0.2705, -1.3633,  1.3066,  0.3230,  1.0357,\n",
       "           -0.8626, -1.2572,  0.9418],\n",
       "          [ 0.1154,  0.8030,  0.5412, -1.1645,  0.1475, -1.0004,  0.3805,\n",
       "            0.4733, -0.9104, -0.7831]]], grad_fn=<SliceBackward0>))"
      ]
     },
     "execution_count": 331,
     "metadata": {},
     "output_type": "execute_result"
    }
   ],
   "source": [
    "np.C.shape, trX.shape, np.C[trX].shape, np.C[:5], trX[:5], np.C[trX][:5]"
   ]
  },
  {
   "cell_type": "code",
   "execution_count": 332,
   "metadata": {},
   "outputs": [
    {
     "ename": "TypeError",
     "evalue": "unsupported operand type(s) for +: 'bool' and 'str'",
     "output_type": "error",
     "traceback": [
      "\u001b[1;31m---------------------------------------------------------------------------\u001b[0m",
      "\u001b[1;31mTypeError\u001b[0m                                 Traceback (most recent call last)",
      "Cell \u001b[1;32mIn[332], line 3\u001b[0m\n\u001b[0;32m      1\u001b[0m \u001b[39mimport\u001b[39;00m \u001b[39mtorch\u001b[39;00m\n\u001b[0;32m      2\u001b[0m \u001b[39mimport\u001b[39;00m \u001b[39mmath\u001b[39;00m\u001b[39m# this ensures that the current MacOS version is at least 12.3+\u001b[39;00m\n\u001b[1;32m----> 3\u001b[0m log(torch\u001b[39m.\u001b[39;49mbackends\u001b[39m.\u001b[39;49mmps\u001b[39m.\u001b[39;49mis_available())\u001b[39m# this ensures that the current current PyTorch installation was built with MPS activated.\u001b[39;00m\n\u001b[0;32m      4\u001b[0m log(torch\u001b[39m.\u001b[39mbackends\u001b[39m.\u001b[39mmps\u001b[39m.\u001b[39mis_built())\n",
      "File \u001b[1;32mc:\\Users\\m.minich\\Desktop\\Moje\\makemore-mm\\mynn.py:17\u001b[0m, in \u001b[0;36mlog\u001b[1;34m(label, sep, end, *values)\u001b[0m\n\u001b[0;32m     11\u001b[0m \u001b[39mdef\u001b[39;00m \u001b[39mlog\u001b[39m(\n\u001b[0;32m     12\u001b[0m     label: \u001b[39mstr\u001b[39m \u001b[39m|\u001b[39m \u001b[39mNone\u001b[39;00m \u001b[39m=\u001b[39m \u001b[39m\"\u001b[39m\u001b[39m\"\u001b[39m,\n\u001b[0;32m     13\u001b[0m     \u001b[39m*\u001b[39mvalues: \u001b[39mobject\u001b[39m,\n\u001b[0;32m     14\u001b[0m     sep: \u001b[39mstr\u001b[39m \u001b[39m|\u001b[39m \u001b[39mNone\u001b[39;00m \u001b[39m=\u001b[39m \u001b[39m\"\u001b[39m\u001b[39m \u001b[39m\u001b[39m\"\u001b[39m,\n\u001b[0;32m     15\u001b[0m     end: \u001b[39mstr\u001b[39m \u001b[39m|\u001b[39m \u001b[39mNone\u001b[39;00m \u001b[39m=\u001b[39m \u001b[39m\"\u001b[39m\u001b[39m\\n\u001b[39;00m\u001b[39m\"\u001b[39m\n\u001b[0;32m     16\u001b[0m ) \u001b[39m-\u001b[39m\u001b[39m>\u001b[39m \u001b[39mNone\u001b[39;00m:\n\u001b[1;32m---> 17\u001b[0m     lbl \u001b[39m=\u001b[39m \u001b[39m\"\u001b[39m\u001b[39m\"\u001b[39m \u001b[39mif\u001b[39;00m label \u001b[39m==\u001b[39m \u001b[39mNone\u001b[39;00m \u001b[39melse\u001b[39;00m \u001b[39mf\u001b[39m\u001b[39m\"\u001b[39m\u001b[39m{\u001b[39;00m(label\u001b[39m \u001b[39;49m\u001b[39m+\u001b[39;49m\u001b[39m \u001b[39;49m\u001b[39m'\u001b[39;49m\u001b[39m:\u001b[39;49m\u001b[39m'\u001b[39;49m)\u001b[39m:\u001b[39;00m\u001b[39m<20\u001b[39m\u001b[39m}\u001b[39;00m\u001b[39m\"\u001b[39m\n\u001b[0;32m     18\u001b[0m     \u001b[39mprint\u001b[39m(lbl, \u001b[39m*\u001b[39mvalues, sep\u001b[39m=\u001b[39msep, end\u001b[39m=\u001b[39mend)\n\u001b[0;32m     19\u001b[0m     \u001b[39mwith\u001b[39;00m \u001b[39mopen\u001b[39m(logFilePath, \u001b[39m\"\u001b[39m\u001b[39ma\u001b[39m\u001b[39m\"\u001b[39m) \u001b[39mas\u001b[39;00m f:\n",
      "\u001b[1;31mTypeError\u001b[0m: unsupported operand type(s) for +: 'bool' and 'str'"
     ]
    }
   ],
   "source": [
    "import torch\n",
    "import math# this ensures that the current MacOS version is at least 12.3+\n",
    "log(torch.backends.mps.is_available())# this ensures that the current current PyTorch installation was built with MPS activated.\n",
    "log(torch.backends.mps.is_built())"
   ]
  },
  {
   "cell_type": "code",
   "execution_count": null,
   "metadata": {},
   "outputs": [
    {
     "name": "stdout",
     "output_type": "stream",
     "text": [
      "[[0.8774, -0.6801], [0.8774, -0.6801], [0.8774, -0.6801]]\n",
      "[[0.8774, -0.6801], [0.8774, -0.6801], [0.0965, -0.5708]]\n",
      "[[0.8774, -0.6801], [0.0965, -0.5708], [0.218, -0.382]]\n",
      "[[0.0965, -0.5708], [0.218, -0.382], [-0.5288, 0.7074]]\n",
      "[[0.218, -0.382], [-0.5288, 0.7074], [-0.3088, 0.9816]]\n"
     ]
    }
   ],
   "source": [
    "# Let\"s suppose these are your lists\n",
    "C = [\n",
    "[ 0.8774, -0.6801],\n",
    "         [ 0.1651, -0.5025],\n",
    "         [ 0.2769, -0.3570],\n",
    "         [-0.8820,  0.3902],\n",
    "         [-0.4824,  0.8744],\n",
    "         [-0.3190,  0.7807],\n",
    "         [-0.0100, -0.3401],\n",
    "         [ 0.9975,  2.8280],\n",
    "         [ 0.9623, -1.3172],\n",
    "         [ 0.2180, -0.3820],\n",
    "         [ 0.6139, -0.4287],\n",
    "         [-0.7386,  0.5880],\n",
    "         [-0.3088,  0.9816],\n",
    "         [ 0.3907, -0.4174],\n",
    "         [-0.7380,  0.5205],\n",
    "         [-0.5288,  0.7074],\n",
    "         [-0.3956,  0.9625],\n",
    "         [-0.3802, -0.3504],\n",
    "         [-0.2861,  0.7589],\n",
    "         [ 0.5309, -0.5105],\n",
    "         [-0.0922, -0.6410],\n",
    "         [-0.3823,  0.9899],\n",
    "         [ 0.0965, -0.5708],\n",
    "         [-0.8582, -1.3429],\n",
    "         [-0.4960,  0.2842],\n",
    "         [-0.6105,  0.1336],\n",
    "         [-0.2623,  0.2942]\n",
    "]\n",
    "trX = [\n",
    "    [0, 0, 0],\n",
    "    [0, 0, 22],\n",
    "    [0, 22, 9],\n",
    "    [22, 9, 15],\n",
    "    [9, 15, 12],\n",
    "    # ... More values\n",
    "]\n",
    "\n",
    "# We create a new list to hold the result\n",
    "result = []\n",
    "\n",
    "# We loop over each element in trX\n",
    "for i in range(len(trX)):\n",
    "    temp = []\n",
    "    # Then we loop over each value in the element\n",
    "    for j in range(len(trX[i])):\n",
    "        # We use the value as an index to get the corresponding data from C\n",
    "        temp.append(C[trX[i][j]])\n",
    "    # We add the result to our new list\n",
    "    result.append(temp)\n",
    "\n",
    "# Let\"s log the first 5 elements of the result list\n",
    "for i in range(5):\n",
    "    print(result[i])"
   ]
  }
 ],
 "metadata": {
  "kernelspec": {
   "display_name": "Python 3",
   "language": "python",
   "name": "python3"
  },
  "language_info": {
   "codemirror_mode": {
    "name": "ipython",
    "version": 3
   },
   "file_extension": ".py",
   "mimetype": "text/x-python",
   "name": "python",
   "nbconvert_exporter": "python",
   "pygments_lexer": "ipython3",
   "version": "3.11.2"
  },
  "orig_nbformat": 4
 },
 "nbformat": 4,
 "nbformat_minor": 2
}
