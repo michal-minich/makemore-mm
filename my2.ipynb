{
 "cells": [
  {
   "cell_type": "code",
   "execution_count": 86,
   "metadata": {},
   "outputs": [],
   "source": [
    "import torch\n",
    "import torch.nn.functional as F\n",
    "import random\n",
    "import matplotlib.pyplot as plt\n",
    "%matplotlib inline"
   ]
  },
  {
   "cell_type": "code",
   "execution_count": 87,
   "metadata": {},
   "outputs": [],
   "source": [
    "def readFileSplitByLine(name: str) -> list[str]:\n",
    "    words = open(name, 'r').read().splitlines()\n",
    "    return words\n",
    "\n",
    "\n",
    "def sToI(chars: list[str]) -> dict[str, int]:\n",
    "   stoi = { '.' : 0 }\n",
    "   for i, ch in enumerate(chars):\n",
    "       stoi[ch] = i + 1\n",
    "   return stoi\n",
    "\n",
    "\n",
    "def iToS(stoi: dict[str, int]) -> dict[int, str]:\n",
    "    return {i:s for s,i in stoi.items()}\n",
    "\n",
    "\n",
    "def buildDataSet(words: list[str], stoi: dict[str, int], itos: dict[int, str]) -> tuple[list[list[int]], list[int]]:\n",
    "    block_size = 3\n",
    "    X: list[list[int]] = []\n",
    "    Y: list[int] = []\n",
    "    for w in words:\n",
    "        context = [0] * block_size\n",
    "        for ch in w + '.':\n",
    "            ix = stoi[ch]\n",
    "            X.append(context)\n",
    "            Y.append(ix)\n",
    "            #print(''.join(itos[i] for i in context), '--->', itos[ix])\n",
    "            context = context[1:] + [ix]\n",
    "    return X, Y"
   ]
  },
  {
   "cell_type": "code",
   "execution_count": 88,
   "metadata": {},
   "outputs": [
    {
     "name": "stdout",
     "output_type": "stream",
     "text": [
      "10 8 9 1\n"
     ]
    }
   ],
   "source": [
    "rndSeed = 42\n",
    "trRatio = 0.8\n",
    "devRatio = 0.9\n",
    "\n",
    "words = readFileSplitByLine('names.txt')[:10]\n",
    "#print(len(words), words)\n",
    "\n",
    "lenWords = len(words);\n",
    "#print(lenWords)\n",
    "\n",
    "allPossibleChars = sorted(list(set(''.join(words))))\n",
    "#print(allPossibleChars)\n",
    "\n",
    "stoi = sToI(allPossibleChars)\n",
    "#print(stoi)\n",
    "\n",
    "itos = iToS(stoi)\n",
    "#print( itos)\n",
    "\n",
    "random.seed(rndSeed)\n",
    "random.shuffle(words)\n",
    "#print(words)\n",
    "\n",
    "nTr = int(trRatio * lenWords)\n",
    "trWords = words[:nTr]\n",
    "trX, trY = buildDataSet(trWords, stoi, itos)\n",
    "\n",
    "nDev = int(devRatio * lenWords)\n",
    "devWords = words[nTr:nDev];\n",
    "devX, devY = buildDataSet(devWords, stoi, itos)\n",
    "\n",
    "nTest = nDev - nTr\n",
    "tstWords = words[nDev:]\n",
    "tstX, tstY = buildDataSet(tstWords, stoi, itos)\n",
    "\n",
    "print(len(words), nTr, nDev, nTest)\n"
   ]
  }
 ],
 "metadata": {
  "kernelspec": {
   "display_name": "Python 3",
   "language": "python",
   "name": "python3"
  },
  "language_info": {
   "codemirror_mode": {
    "name": "ipython",
    "version": 3
   },
   "file_extension": ".py",
   "mimetype": "text/x-python",
   "name": "python",
   "nbconvert_exporter": "python",
   "pygments_lexer": "ipython3",
   "version": "3.11.2"
  },
  "orig_nbformat": 4
 },
 "nbformat": 4,
 "nbformat_minor": 2
}
